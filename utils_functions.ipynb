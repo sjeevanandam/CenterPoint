{
 "cells": [
  {
   "cell_type": "code",
   "execution_count": 1,
   "metadata": {},
   "outputs": [],
   "source": [
    "import pickle\n",
    "import numpy as np\n",
    "import torch"
   ]
  },
  {
   "cell_type": "code",
   "execution_count": 12,
   "metadata": {},
   "outputs": [],
   "source": [
    "def get_matches_GT(root_path, frame1, frame2):\n",
    "    first_frame = pickle.load(open(root_path + frame1, 'rb'))\n",
    "    second_frame = pickle.load(open(root_path + frame2, 'rb'))\n",
    "    # pc = frame['points'][:, :3]\n",
    "    \n",
    "    # pc_wraped, R = self.rotate_point_cloud(pc)\n",
    "\n",
    "    first_frame_box_names = {}\n",
    "    for f in first_frame['objects']:\n",
    "        first_frame_box_names[f['name']] = f['box']\n",
    "\n",
    "    second_frame_box_names = {}\n",
    "    for f in second_frame['objects']:\n",
    "        second_frame_box_names[f['name']] = f['box']\n",
    "    # common_boxes = np.intersect1d(list(first_frame_box_names.keys()), list(second_frame_box_names.keys()))\n",
    "    \n",
    "    # boxes1 = []\n",
    "    # boxes2 = []\n",
    "    # for common_box in common_boxes:\n",
    "    #     boxes1.append(first_frame_box_names[common_box])\n",
    "    #     boxes2.append(second_frame_box_names[common_box])\n",
    "    boxes1 = np.array(list(first_frame_box_names.values()))\n",
    "    boxes2 = np.array(list(second_frame_box_names.values()))\n",
    "    # skip this  pair if no keypoints\n",
    "    if len(boxes1) <= 1 or len(boxes2) <= 1:\n",
    "        # self.logger.info(\"Time elapsed for one item is (hh:mm:ss.ms) {}\".format(time()-start_time))\n",
    "        # return{\n",
    "        #     'keypoints0': torch.zeros([0, 0, 2], dtype=torch.double),\n",
    "        #     'keypoints1': torch.zeros([0, 0, 2], dtype=torch.double),\n",
    "        #     'descriptors0': torch.zeros([0, 2], dtype=torch.double),\n",
    "        #     'descriptors1': torch.zeros([0, 2], dtype=torch.double),\n",
    "        #     'file_name': frame1\n",
    "        # }\n",
    "        return np.array([]), np.array([])\n",
    "    \n",
    "    matches_1_to_2 = np.nonzero(np.in1d(list(first_frame_box_names.keys()), list(second_frame_box_names.keys())))[0]\n",
    "    matches_2_to_1 = np.nonzero(np.in1d(list(second_frame_box_names.keys()), list(first_frame_box_names.keys())))[0]\n",
    "    all_matches = np.vstack((matches_1_to_2, matches_2_to_1))\n",
    "    \n",
    "    return matches_1_to_2, matches_2_to_1"
   ]
  },
  {
   "cell_type": "code",
   "execution_count": 15,
   "metadata": {},
   "outputs": [],
   "source": [
    "matches_1_to_2, matches_2_to_1 = get_matches_GT(\"/home/jeevanandam/thesis/CenterPoint_new/data/test/annos/\", \"seq_0_frame_0.pkl\", \"seq_0_frame_1.pkl\")"
   ]
  },
  {
   "cell_type": "code",
   "execution_count": 14,
   "metadata": {},
   "outputs": [
    {
     "data": {
      "text/plain": [
       "(array([], dtype=float64), array([], dtype=float64))"
      ]
     },
     "execution_count": 14,
     "metadata": {},
     "output_type": "execute_result"
    }
   ],
   "source": [
    "matches_1_to_2, matches_1_to_2"
   ]
  },
  {
   "cell_type": "code",
   "execution_count": 108,
   "metadata": {},
   "outputs": [],
   "source": [
    "import numpy as np\n",
    "from scipy.spatial.distance import pdist, squareform\n",
    "from scipy.sparse.csgraph import shortest_path\n",
    "import torch\n",
    "from torch_geometric.data import Data\n",
    "from torch_geometric.utils import remove_self_loops\n",
    "import torch.nn.functional as F\n",
    "import cv2\n",
    "\n",
    "from sklearn.neighbors import RadiusNeighborsTransformer, NearestNeighbors\n",
    "\n",
    "exp_alpha = 0.2  # for the exp function\n",
    "k = 7 # min number of neighbors\n",
    "nbrs_knn_general = NearestNeighbors(n_neighbors=k, algorithm='ball_tree')\n",
    "nbrs_knn= NearestNeighbors(n_neighbors=6, algorithm='ball_tree')\n",
    "\n",
    "def get_neighbour_indices(positions, distance=0, knn=True,include_camera=False):\n",
    "    \n",
    "    if(knn == False):\n",
    "\n",
    "        rnt = RadiusNeighborsTransformer(mode='distance', radius=distance)\n",
    "        rnt_result = rnt.fit(positions)\n",
    "        result = rnt_result.radius_neighbors(positions, return_distance=False)\n",
    "        # if include_camera:\n",
    "        #     result[0]=np.arange(result.shape[0])\n",
    "        return result\n",
    "\n",
    "    if(knn == True):\n",
    "        nbrs_knn.fit(positions)\n",
    "        result = nbrs_knn.kneighbors(positions, return_distance=False)\n",
    "\n",
    "        return result\n",
    "    \n",
    "def get_edges_and_adjancey_matrix_from_indices(indices,self_edge=True):\n",
    "    \"\"\"Create 2xE and NxN edge and adjency matrix from list of lenght of number of neighbors for each node.\"\"\"\n",
    "    number_of_nodes = indices.shape[0]\n",
    "    number_of_edges = 0\n",
    "\n",
    "    for i in range(indices.shape[0]):\n",
    "        number_of_edges += len(indices[i])\n",
    "\n",
    "    edges = np.zeros([2, number_of_edges], dtype=int)\n",
    "    adjancey_matrix = np.zeros([number_of_nodes, number_of_nodes], dtype=int)\n",
    "\n",
    "    counter = 0\n",
    "    for i in range(number_of_nodes):\n",
    "        for j in range(len(indices[i])):\n",
    "            # edges[:, counter] = [i, indices[i][j]]\n",
    "            adjancey_matrix[i, indices[i][j]] = 1\n",
    "            adjancey_matrix[ indices[i][j],i] = 1\n",
    "            \n",
    "    for i in range(number_of_nodes):\n",
    "        for j in range(i+1 if self_edge else i ):\n",
    "            if adjancey_matrix[i,j]==1:\n",
    "                edges[:,counter]=[i,j]\n",
    "                counter += 1\n",
    "\n",
    "    edges=edges[:,:counter]\n",
    "    return edges, adjancey_matrix\n",
    "    \n",
    "def create_graph(bb_pt_t, node_features, frame_id):\n",
    "    positions=bb_pt_t\n",
    "    # .detach().cpu().numpy()[:,3:6]\n",
    "\n",
    "    distance=10\n",
    "    # print(distance)\n",
    "    indices = get_neighbour_indices(positions, distance, knn=False,include_camera=True)\n",
    "\n",
    "\n",
    "    # positions_distance = np.stack((positions_distance_1, positions_distance_2,positions_distance_3), axis=-1)\n",
    "    positions_distance=squareform(pdist(positions))\n",
    "    # positions_distance[1:,0]=0\n",
    "    edges, adjancey_matrix = get_edges_and_adjancey_matrix_from_indices(indices)\n",
    "    edge_distances = np.array([positions_distance[edges[0, i], edges[1, i]] for i in range(0, edges.shape[1])])\n",
    "    \n",
    "    edge_attr = torch.tensor(np.expand_dims(edge_distances,1), dtype=torch.float32)\n",
    "    edge_index = torch.tensor(edges, dtype=torch.int64)\n",
    "\n",
    "    # x = bb_pt_t.float()\n",
    "    \n",
    "    # obj_list_vect=np.asarray([obj.get_kitti_vector() for obj in obj_list])\n",
    "    # v=torch.tensor(obj_list_vect, dtype=torch.float32)\n",
    "\n",
    "    # y = bb_gt_t.float()\n",
    "    # print(feature_gt[:,-1])\n",
    "\n",
    "    positions = torch.tensor(positions, dtype=torch.float32)\n",
    "    \n",
    "\n",
    "    #edge_index, edge_attr = remove_self_loops(edge_index, edge_attr)\n",
    "    edge_attr = (distance-edge_attr)/ distance\n",
    "\n",
    "    # return Data(x=x, y=y, edge_index=edge_index, edge_attr=edge_attr, positions=positions,frame_id=frame_id,pc=pc,pc_feat=pc_feat)\n",
    "    return Data(x=node_features, edge_index=edge_index, edge_attr=edge_attr, positions=positions,frame_id=frame_id)"
   ]
  },
  {
   "cell_type": "code",
   "execution_count": 109,
   "metadata": {},
   "outputs": [],
   "source": [
    "import os.path as osp\n",
    "import os\n",
    "\n",
    "import torch\n",
    "from torch_geometric.data import Dataset, download_url, Data\n",
    "import pickle\n",
    "import numpy as np\n",
    "\n",
    "\n",
    "class WaymoGraphDatasetSimple(Dataset):\n",
    "    def __init__(self, root, transform=None, pre_transform=None, pre_filter=None):\n",
    "        \n",
    "\n",
    "        self.waymo_path = \"/home/jeevanandam/thesis/CenterPoint_new/data/val_1/waymo_graph/raw/\"\n",
    "        self.features_path = \"/home/jeevanandam/thesis/CenterPoint_new/data/val_1/waymo_graph/features/\"\n",
    "        # self.processed_dir = \"/home/jeevanandam/thesis/CenterPoint_new/data/val_1/waymo_graph/\"\n",
    "        self.graph_file_names = []\n",
    "        \n",
    "        self.files = [self.waymo_path + f for f in os.listdir(self.waymo_path)]\n",
    "        self.file_names = [f for f in os.listdir(self.waymo_path)]\n",
    "        \n",
    "        super().__init__(root, transform, pre_transform, pre_filter)\n",
    "        \n",
    "        # self.graph_file_names = [self.processed_dir + f + \".pt\" for f in os.listdir(self.waymo_path)]\n",
    "\n",
    "        print(\"init donee\")\n",
    "        \n",
    "\n",
    "    @property\n",
    "    def raw_file_names(self):\n",
    "        return []\n",
    "\n",
    "    @property\n",
    "    def processed_file_names(self):\n",
    "        return self.graph_file_names\n",
    "\n",
    "    def download(self):\n",
    "        # Download to `self.raw_dir`.\n",
    "        pass\n",
    "\n",
    "    def process(self):\n",
    "        print(\"HEREEE\")\n",
    "        for frame_name in self.file_names:\n",
    "            out_path = self.processed_dir + \"/\" + frame_name.split(\".\")[0] + \".pt\"\n",
    "            self.graph_file_names.append(out_path)\n",
    "            # read point cloud,\n",
    "            with open(self.waymo_path + frame_name, 'rb') as f:\n",
    "                first_frame = pickle.load(f)\n",
    "            with open(self.features_path+frame_name, 'rb') as f:\n",
    "                node_features = pickle.load(f)['detections_gt']['centerpoint_features']\n",
    "\n",
    "            first_frame_box_names = {}\n",
    "            for f in first_frame['objects']:\n",
    "                first_frame_box_names[f['name']] = f['box']\n",
    "\n",
    "            boxes1 = np.array(list(first_frame_box_names.values()))\n",
    "            nodes = boxes1[:, :3]\n",
    "            # convert point cloud to Data object\n",
    "            scene_graph = create_graph(nodes, node_features, frame_name)\n",
    "            \n",
    "            torch.save(scene_graph, out_path)\n",
    "        return\n",
    "\n",
    "    def __len__(self):\n",
    "        return len(self.graph_file_names)\n",
    "\n",
    "    def __getitem__(self, idx):\n",
    "        data = torch.load(os.path.join(self.processed_dir,\n",
    "                          self.graph_file_names[idx]))\n",
    "        return data\n",
    "\n",
    "    def len(self):\n",
    "        return len(self.graph_file_names)\n",
    "\n",
    "    def get(self, idx):\n",
    "        data = torch.load(osp.join(self.processed_dir, f'data_{idx}.pt'))\n",
    "        return data\n"
   ]
  },
  {
   "cell_type": "code",
   "execution_count": 110,
   "metadata": {},
   "outputs": [
    {
     "name": "stderr",
     "output_type": "stream",
     "text": [
      "Processing...\n"
     ]
    },
    {
     "name": "stdout",
     "output_type": "stream",
     "text": [
      "HEREEE\n",
      "init donee\n"
     ]
    },
    {
     "name": "stderr",
     "output_type": "stream",
     "text": [
      "Done!\n"
     ]
    }
   ],
   "source": [
    "dataset = WaymoGraphDatasetSimple(root=\"/home/jeevanandam/thesis/CenterPoint_new/data/val_1/waymo_graph/\")"
   ]
  },
  {
   "cell_type": "code",
   "execution_count": 111,
   "metadata": {},
   "outputs": [],
   "source": [
    "g1 = torch.load(\"/home/jeevanandam/thesis/CenterPoint_new/data/val_1/waymo_graph/processed/seq_0_frame_0.pt\")"
   ]
  },
  {
   "cell_type": "code",
   "execution_count": 139,
   "metadata": {},
   "outputs": [
    {
     "data": {
      "text/plain": [
       "Data(x=[30, 64], edge_index=[2, 51], edge_attr=[51, 1], positions=[30, 3], frame_id='seq_0_frame_0.pkl')"
      ]
     },
     "execution_count": 139,
     "metadata": {},
     "output_type": "execute_result"
    }
   ],
   "source": [
    "g1"
   ]
  },
  {
   "cell_type": "code",
   "execution_count": 136,
   "metadata": {},
   "outputs": [],
   "source": [
    "g1_np = g1.edge_index.cpu().numpy()"
   ]
  },
  {
   "cell_type": "code",
   "execution_count": 137,
   "metadata": {},
   "outputs": [
    {
     "data": {
      "text/plain": [
       "array([[ 0,  1,  2,  3,  4,  5,  6,  7,  8,  8,  9, 10, 11, 11, 12, 13,\n",
       "        13, 14, 15, 15, 15, 16, 17, 18, 18, 18, 18, 19, 19, 20, 20, 20,\n",
       "        21, 21, 22, 22, 23, 24, 24, 25, 26, 26, 26, 27, 28, 28, 29, 29,\n",
       "        29, 29, 29],\n",
       "       [ 0,  1,  2,  3,  4,  5,  6,  7,  5,  8,  9, 10,  4, 11, 12,  6,\n",
       "        13, 14,  0, 12, 15, 16, 17,  0, 12, 15, 18,  0, 19, 12, 15, 20,\n",
       "        16, 21, 17, 22, 23,  9, 24, 25, 16, 21, 26, 27,  1, 28,  0, 15,\n",
       "        18, 19, 29]])"
      ]
     },
     "execution_count": 137,
     "metadata": {},
     "output_type": "execute_result"
    }
   ],
   "source": [
    "g1_np"
   ]
  },
  {
   "cell_type": "code",
   "execution_count": 138,
   "metadata": {},
   "outputs": [
    {
     "data": {
      "text/plain": [
       "[(0, 0),\n",
       " (1, 1),\n",
       " (2, 2),\n",
       " (3, 3),\n",
       " (4, 4),\n",
       " (5, 5),\n",
       " (6, 6),\n",
       " (7, 7),\n",
       " (8, 5),\n",
       " (8, 8),\n",
       " (9, 9),\n",
       " (10, 10),\n",
       " (11, 4),\n",
       " (11, 11),\n",
       " (12, 12),\n",
       " (13, 6),\n",
       " (13, 13),\n",
       " (14, 14),\n",
       " (15, 0),\n",
       " (15, 12),\n",
       " (15, 15),\n",
       " (16, 16),\n",
       " (17, 17),\n",
       " (18, 0),\n",
       " (18, 12),\n",
       " (18, 15),\n",
       " (18, 18),\n",
       " (19, 0),\n",
       " (19, 19),\n",
       " (20, 12),\n",
       " (20, 15),\n",
       " (20, 20),\n",
       " (21, 16),\n",
       " (21, 21),\n",
       " (22, 17),\n",
       " (22, 22),\n",
       " (23, 23),\n",
       " (24, 9),\n",
       " (24, 24),\n",
       " (25, 25),\n",
       " (26, 16),\n",
       " (26, 21),\n",
       " (26, 26),\n",
       " (27, 27),\n",
       " (28, 1),\n",
       " (28, 28),\n",
       " (29, 0),\n",
       " (29, 15),\n",
       " (29, 18),\n",
       " (29, 19),\n",
       " (29, 29)]"
      ]
     },
     "execution_count": 138,
     "metadata": {},
     "output_type": "execute_result"
    }
   ],
   "source": [
    "list(zip(g1_np[0],g1_np[1]))"
   ]
  }
 ],
 "metadata": {
  "interpreter": {
   "hash": "6f066d5bd77446834bc632e3711b9ebc777ddc83afec2387fc1b97f22a15afa0"
  },
  "kernelspec": {
   "display_name": "Python 3.7.10 64-bit ('centerpoint_new': conda)",
   "language": "python",
   "name": "python3"
  },
  "language_info": {
   "codemirror_mode": {
    "name": "ipython",
    "version": 3
   },
   "file_extension": ".py",
   "mimetype": "text/x-python",
   "name": "python",
   "nbconvert_exporter": "python",
   "pygments_lexer": "ipython3",
   "version": "3.7.10"
  },
  "orig_nbformat": 4
 },
 "nbformat": 4,
 "nbformat_minor": 2
}
